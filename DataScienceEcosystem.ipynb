{
 "cells": [
  {
   "cell_type": "markdown",
   "id": "d27abc44",
   "metadata": {},
   "source": [
    "# Data Science Tools And EcoSystem\n",
    "\n"
   ]
  },
  {
   "cell_type": "markdown",
   "id": "a82e71b6",
   "metadata": {},
   "source": [
    "In this notebook, Data Science Tools and Ecosystem are summarized."
   ]
  },
  {
   "cell_type": "markdown",
   "id": "cb43f943",
   "metadata": {},
   "source": [
    "Some of the popular languages that Data Scientists use are:\n"
   ]
  },
  {
   "cell_type": "markdown",
   "id": "d7334563",
   "metadata": {},
   "source": [
    "1. Python \n",
    "2. Julia\n",
    "3. R\n"
   ]
  },
  {
   "cell_type": "markdown",
   "id": "3d120d83",
   "metadata": {},
   "source": [
    "Some of the commonly used libraries used by Data Scientists include:\n",
    "1. Matplotlib\n",
    "2. ggplot\n",
    "3. seaborn\n",
    "4. numpy"
   ]
  },
  {
   "cell_type": "markdown",
   "id": "f3a749b3",
   "metadata": {},
   "source": [
    "| Data Science Tools|\n",
    "|---|\n",
    "|Jupyter Notebook|\n",
    "|R Studio|\n",
    "|Tensor Flow|"
   ]
  },
  {
   "cell_type": "markdown",
   "id": "82f25321",
   "metadata": {},
   "source": [
    "### Below are a few examples of evaluating arithmetic expressions in Python\n"
   ]
  },
  {
   "cell_type": "markdown",
   "id": "b68d8879",
   "metadata": {},
   "source": [
    "This a simple arithmetic expression to mutiply then add integers\n"
   ]
  },
  {
   "cell_type": "code",
   "execution_count": 4,
   "id": "c7b53798",
   "metadata": {},
   "outputs": [
    {
     "data": {
      "text/plain": [
       "17"
      ]
     },
     "execution_count": 4,
     "metadata": {},
     "output_type": "execute_result"
    }
   ],
   "source": [
    "(3*4)+5"
   ]
  },
  {
   "cell_type": "markdown",
   "id": "96cb514e",
   "metadata": {},
   "source": [
    "This will convert 200 minutes to hours by diving by 6\n"
   ]
  },
  {
   "cell_type": "code",
   "execution_count": 7,
   "id": "3b3c420e",
   "metadata": {},
   "outputs": [
    {
     "name": "stdout",
     "output_type": "stream",
     "text": [
      "3.3333333333333335\n"
     ]
    }
   ],
   "source": [
    "hours = 200/60\n",
    "print(hours)"
   ]
  },
  {
   "cell_type": "markdown",
   "id": "01cc936f",
   "metadata": {},
   "source": [
    "# Key Takeaways\n",
    "* To become a data scientist you have to be curious\n",
    "* Some of the tools that are used are Python, R, and Excel.\n",
    "* Install and learn how to use Jupyter Notebook.\n",
    "* write code and create markdown.\n",
    "* learn about Git and Github."
   ]
  },
  {
   "cell_type": "markdown",
   "id": "b49a924b",
   "metadata": {},
   "source": [
    "## Author: Noman Ajmal"
   ]
  },
  {
   "cell_type": "code",
   "execution_count": null,
   "id": "f29295c8",
   "metadata": {},
   "outputs": [],
   "source": []
  }
 ],
 "metadata": {
  "kernelspec": {
   "display_name": "Python 3 (ipykernel)",
   "language": "python",
   "name": "python3"
  },
  "language_info": {
   "codemirror_mode": {
    "name": "ipython",
    "version": 3
   },
   "file_extension": ".py",
   "mimetype": "text/x-python",
   "name": "python",
   "nbconvert_exporter": "python",
   "pygments_lexer": "ipython3",
   "version": "3.10.11"
  }
 },
 "nbformat": 4,
 "nbformat_minor": 5
}
